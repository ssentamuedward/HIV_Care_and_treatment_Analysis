{
 "cells": [
  {
   "cell_type": "code",
   "execution_count": 1,
   "id": "038f22b8-58a4-420c-9a88-c6776677465b",
   "metadata": {},
   "outputs": [],
   "source": [
    "#loading data\n",
    "import pandas as pd"
   ]
  },
  {
   "cell_type": "code",
   "execution_count": 2,
   "id": "a3397452-d0d7-4b5e-a6a0-88ed5381e493",
   "metadata": {},
   "outputs": [],
   "source": [
    "df = pd.read_excel('hiv_care_treatment.xlsx')"
   ]
  },
  {
   "cell_type": "code",
   "execution_count": 3,
   "id": "1d803913-e2ce-40e1-abf0-f9e8adc87428",
   "metadata": {
    "scrolled": true
   },
   "outputs": [
    {
     "name": "stdout",
     "output_type": "stream",
     "text": [
      "Original DataFrame:\n",
      "  Patient_ID  Age Gender Date_of_Diagnosis Treatment_Start_Date  \\\n",
      "0   KYM 0756   21      F        2019-08-06           2019-08-06   \n",
      "1   KYM 0710   33      F        2020-01-16           2020-01-16   \n",
      "2   KYM 0735   23      F        2020-04-05           2020-04-05   \n",
      "3   KYM 0723   51      F        2014-11-13           2014-11-13   \n",
      "4   KYM 0741   44      M        2020-04-14           2020-04-14   \n",
      "\n",
      "  Treatment_Type  Viral_Load  CD4_Count Adherence_Level Side_Effects  \\\n",
      "0    TDF/3TC/DTG         1.0        NaN  GOOD ADHERENCE   2023-12-05   \n",
      "1    TDF/3TC/DTG    188000.0        NaN  GOOD ADHERENCE   2022-10-04   \n",
      "2    TDF/3TC/DTG     17690.0        NaN  GOOD ADHERENCE   2021-09-28   \n",
      "3    TDF/3TC/DTG         1.0        NaN  GOOD ADHERENCE   2022-05-10   \n",
      "4    TDF/3TC/DTG         1.0        NaN  GOOD ADHERENCE   2024-05-08   \n",
      "\n",
      "  Last_Visit_Date  \n",
      "0      2024-01-23  \n",
      "1      2022-11-01  \n",
      "2      2021-10-26  \n",
      "3      2022-08-02  \n",
      "4      2024-07-31  \n",
      "\n",
      "DataFrame Info:\n",
      "<class 'pandas.core.frame.DataFrame'>\n",
      "RangeIndex: 1013 entries, 0 to 1012\n",
      "Data columns (total 11 columns):\n",
      " #   Column                Non-Null Count  Dtype         \n",
      "---  ------                --------------  -----         \n",
      " 0   Patient_ID            1013 non-null   object        \n",
      " 1   Age                   1013 non-null   int64         \n",
      " 2   Gender                1013 non-null   object        \n",
      " 3   Date_of_Diagnosis     970 non-null    datetime64[ns]\n",
      " 4   Treatment_Start_Date  970 non-null    datetime64[ns]\n",
      " 5   Treatment_Type        938 non-null    object        \n",
      " 6   Viral_Load            648 non-null    float64       \n",
      " 7   CD4_Count             76 non-null     float64       \n",
      " 8   Adherence_Level       844 non-null    object        \n",
      " 9   Side_Effects          1013 non-null   datetime64[ns]\n",
      " 10  Last_Visit_Date       945 non-null    datetime64[ns]\n",
      "dtypes: datetime64[ns](4), float64(2), int64(1), object(4)\n",
      "memory usage: 87.2+ KB\n",
      "None\n",
      "\n",
      "Missing Values:\n",
      "Patient_ID                0\n",
      "Age                       0\n",
      "Gender                    0\n",
      "Date_of_Diagnosis        43\n",
      "Treatment_Start_Date     43\n",
      "Treatment_Type           75\n",
      "Viral_Load              365\n",
      "CD4_Count               937\n",
      "Adherence_Level         169\n",
      "Side_Effects              0\n",
      "Last_Visit_Date          68\n",
      "dtype: int64\n"
     ]
    }
   ],
   "source": [
    "#loading data\n",
    "print(\"Original DataFrame:\")\n",
    "print(df.head())\n",
    "print(\"\\nDataFrame Info:\")\n",
    "print(df.info())\n",
    "print(\"\\nMissing Values:\")\n",
    "print(df.isna().sum())"
   ]
  },
  {
   "cell_type": "code",
   "execution_count": 4,
   "id": "3a299cfe-dcf9-43bd-aa7f-4cb8cc777c26",
   "metadata": {},
   "outputs": [
    {
     "name": "stderr",
     "output_type": "stream",
     "text": [
      "C:\\Users\\Stores\\AppData\\Local\\Temp\\ipykernel_19268\\1579193515.py:2: FutureWarning: A value is trying to be set on a copy of a DataFrame or Series through chained assignment using an inplace method.\n",
      "The behavior will change in pandas 3.0. This inplace method will never work because the intermediate object on which we are setting values always behaves as a copy.\n",
      "\n",
      "For example, when doing 'df[col].method(value, inplace=True)', try using 'df.method({col: value}, inplace=True)' or df[col] = df[col].method(value) instead, to perform the operation inplace on the original object.\n",
      "\n",
      "\n",
      "  df['Viral_Load'].fillna(df['Viral_Load'].mean(), inplace=True)\n",
      "C:\\Users\\Stores\\AppData\\Local\\Temp\\ipykernel_19268\\1579193515.py:3: FutureWarning: A value is trying to be set on a copy of a DataFrame or Series through chained assignment using an inplace method.\n",
      "The behavior will change in pandas 3.0. This inplace method will never work because the intermediate object on which we are setting values always behaves as a copy.\n",
      "\n",
      "For example, when doing 'df[col].method(value, inplace=True)', try using 'df.method({col: value}, inplace=True)' or df[col] = df[col].method(value) instead, to perform the operation inplace on the original object.\n",
      "\n",
      "\n",
      "  df['CD4_Count'].fillna(df['CD4_Count'].median(), inplace=True)\n"
     ]
    }
   ],
   "source": [
    "# Fill missing values or drop rows/columns\n",
    "df['Viral_Load'].fillna(df['Viral_Load'].mean(), inplace=True)\n",
    "df['CD4_Count'].fillna(df['CD4_Count'].median(), inplace=True)\n",
    "df.dropna(subset=['Patient_ID'], inplace=True)  # Essential column\n",
    "\n"
   ]
  },
  {
   "cell_type": "code",
   "execution_count": 5,
   "id": "1f5766aa-8504-4d0a-ae4d-906789e00242",
   "metadata": {},
   "outputs": [
    {
     "name": "stderr",
     "output_type": "stream",
     "text": [
      "C:\\Users\\Stores\\AppData\\Local\\Temp\\ipykernel_19268\\25701671.py:1: FutureWarning: A value is trying to be set on a copy of a DataFrame or Series through chained assignment using an inplace method.\n",
      "The behavior will change in pandas 3.0. This inplace method will never work because the intermediate object on which we are setting values always behaves as a copy.\n",
      "\n",
      "For example, when doing 'df[col].method(value, inplace=True)', try using 'df.method({col: value}, inplace=True)' or df[col] = df[col].method(value) instead, to perform the operation inplace on the original object.\n",
      "\n",
      "\n",
      "  df['Viral_Load'].fillna(df['Viral_Load'].mean(), inplace=True)\n"
     ]
    }
   ],
   "source": [
    "df['Viral_Load'].fillna(df['Viral_Load'].mean(), inplace=True)"
   ]
  },
  {
   "cell_type": "code",
   "execution_count": 6,
   "id": "e4ee3b6d-4985-4024-a105-01ca87ff4780",
   "metadata": {
    "scrolled": true
   },
   "outputs": [
    {
     "name": "stdout",
     "output_type": "stream",
     "text": [
      "\n",
      "Duplicates Before Removal:\n",
      "0\n",
      "\n",
      "Duplicates After Removal:\n",
      "0\n"
     ]
    }
   ],
   "source": [
    "print(\"\\nDuplicates Before Removal:\")\n",
    "print(df.duplicated().sum())\n",
    "\n",
    "df.drop_duplicates(inplace=True)\n",
    "\n",
    "print(\"\\nDuplicates After Removal:\")\n",
    "print(df.duplicated().sum())"
   ]
  },
  {
   "cell_type": "code",
   "execution_count": 7,
   "id": "732576da-c2e9-476d-8df4-a3d27667f7c0",
   "metadata": {},
   "outputs": [],
   "source": [
    "# Standardize 'Gender' column\n",
    "df['Gender'] = df['Gender'].str.upper().replace({'FEMALE': 'F', 'MALE': 'M'})\n",
    "\n",
    "# Correct any typos in 'Treatment_Type'\n",
    "df['Treatment_Type'] = df['Treatment_Type'].str.upper().replace({'ART': 'Antiretroviral Therapy', 'PREP': 'Pre-Exposure Prophylaxis'})"
   ]
  },
  {
   "cell_type": "code",
   "execution_count": 8,
   "id": "30a8e735-f42c-40fa-bf00-a138dabe63b9",
   "metadata": {},
   "outputs": [],
   "source": [
    "# Convert dates to datetime format\n",
    "df['Date_of_Diagnosis'] = pd.to_datetime(df['Date_of_Diagnosis'])\n",
    "df['Treatment_Start_Date'] = pd.to_datetime(df['Treatment_Start_Date'])\n",
    "df['Last_Visit_Date'] = pd.to_datetime(df['Last_Visit_Date'])\n",
    "\n",
    "# Convert numerical data to appropriate types\n",
    "df['Age'] = df['Age'].astype(int)\n",
    "df['Viral_Load'] = df['Viral_Load'].astype(float)\n",
    "df['CD4_Count'] = df['CD4_Count'].astype(float)"
   ]
  },
  {
   "cell_type": "code",
   "execution_count": 1,
   "id": "f440ba74-709d-429a-8dac-612a6203b473",
   "metadata": {},
   "outputs": [
    {
     "ename": "NameError",
     "evalue": "name 'pd' is not defined",
     "output_type": "error",
     "traceback": [
      "\u001b[1;31m---------------------------------------------------------------------------\u001b[0m",
      "\u001b[1;31mNameError\u001b[0m                                 Traceback (most recent call last)",
      "Cell \u001b[1;32mIn[1], line 6\u001b[0m\n\u001b[0;32m      1\u001b[0m additional_data \u001b[38;5;241m=\u001b[39m {\n\u001b[0;32m      2\u001b[0m     \u001b[38;5;124m'\u001b[39m\u001b[38;5;124mPatient_ID\u001b[39m\u001b[38;5;124m'\u001b[39m: [\u001b[38;5;241m101\u001b[39m, \u001b[38;5;241m102\u001b[39m, \u001b[38;5;241m103\u001b[39m, \u001b[38;5;241m104\u001b[39m],\n\u001b[0;32m      3\u001b[0m     \u001b[38;5;124m'\u001b[39m\u001b[38;5;124mFollow_Up_Visit\u001b[39m\u001b[38;5;124m'\u001b[39m: [\u001b[38;5;124m'\u001b[39m\u001b[38;5;124m2024-01-15\u001b[39m\u001b[38;5;124m'\u001b[39m, \u001b[38;5;124m'\u001b[39m\u001b[38;5;124m2024-02-20\u001b[39m\u001b[38;5;124m'\u001b[39m, \u001b[38;5;124m'\u001b[39m\u001b[38;5;124m2024-03-10\u001b[39m\u001b[38;5;124m'\u001b[39m, \u001b[38;5;124m'\u001b[39m\u001b[38;5;124m2024-04-05\u001b[39m\u001b[38;5;124m'\u001b[39m],\n\u001b[0;32m      4\u001b[0m     \u001b[38;5;124m'\u001b[39m\u001b[38;5;124mNotes\u001b[39m\u001b[38;5;124m'\u001b[39m: [\u001b[38;5;124m'\u001b[39m\u001b[38;5;124mStable\u001b[39m\u001b[38;5;124m'\u001b[39m, \u001b[38;5;124m'\u001b[39m\u001b[38;5;124mNeeds adjustment\u001b[39m\u001b[38;5;124m'\u001b[39m, \u001b[38;5;124m'\u001b[39m\u001b[38;5;124mAdherence issues\u001b[39m\u001b[38;5;124m'\u001b[39m, \u001b[38;5;124m'\u001b[39m\u001b[38;5;124mImproved\u001b[39m\u001b[38;5;124m'\u001b[39m]\n\u001b[0;32m      5\u001b[0m }\n\u001b[1;32m----> 6\u001b[0m df_additional \u001b[38;5;241m=\u001b[39m pd\u001b[38;5;241m.\u001b[39mDataFrame(additional_data)\n\u001b[0;32m      7\u001b[0m df_additional[\u001b[38;5;124m'\u001b[39m\u001b[38;5;124mFollow_Up_Visit\u001b[39m\u001b[38;5;124m'\u001b[39m] \u001b[38;5;241m=\u001b[39m pd\u001b[38;5;241m.\u001b[39mto_datetime(df_additional[\u001b[38;5;124m'\u001b[39m\u001b[38;5;124mFollow_Up_Visit\u001b[39m\u001b[38;5;124m'\u001b[39m])\n",
      "\u001b[1;31mNameError\u001b[0m: name 'pd' is not defined"
     ]
    }
   ],
   "source": [
    "additional_data = {\n",
    "    'Patient_ID': [101, 102, 103, 104],\n",
    "    'Follow_Up_Visit': ['2024-01-15', '2024-02-20', '2024-03-10', '2024-04-05'],\n",
    "    'Notes': ['Stable', 'Needs adjustment', 'Adherence issues', 'Improved']\n",
    "}\n",
    "df_additional = pd.DataFrame(additional_data)\n",
    "df_additional['Follow_Up_Visit'] = pd.to_datetime(df_additional['Follow_Up_Visit'])"
   ]
  },
  {
   "cell_type": "code",
   "execution_count": 2,
   "id": "8889d4b8-c724-4a03-ad92-8364380313d0",
   "metadata": {},
   "outputs": [
    {
     "ename": "NameError",
     "evalue": "name 'pd' is not defined",
     "output_type": "error",
     "traceback": [
      "\u001b[1;31m---------------------------------------------------------------------------\u001b[0m",
      "\u001b[1;31mNameError\u001b[0m                                 Traceback (most recent call last)",
      "Cell \u001b[1;32mIn[2], line 6\u001b[0m\n\u001b[0;32m      1\u001b[0m additional_data \u001b[38;5;241m=\u001b[39m {\n\u001b[0;32m      2\u001b[0m     \u001b[38;5;124m'\u001b[39m\u001b[38;5;124mPatient_ID\u001b[39m\u001b[38;5;124m'\u001b[39m: [\u001b[38;5;241m101\u001b[39m, \u001b[38;5;241m102\u001b[39m, \u001b[38;5;241m103\u001b[39m, \u001b[38;5;241m104\u001b[39m],\n\u001b[0;32m      3\u001b[0m     \u001b[38;5;124m'\u001b[39m\u001b[38;5;124mFollow_Up_Visit\u001b[39m\u001b[38;5;124m'\u001b[39m: [\u001b[38;5;124m'\u001b[39m\u001b[38;5;124m2024-01-15\u001b[39m\u001b[38;5;124m'\u001b[39m, \u001b[38;5;124m'\u001b[39m\u001b[38;5;124m2024-02-20\u001b[39m\u001b[38;5;124m'\u001b[39m, \u001b[38;5;124m'\u001b[39m\u001b[38;5;124m2024-03-10\u001b[39m\u001b[38;5;124m'\u001b[39m, \u001b[38;5;124m'\u001b[39m\u001b[38;5;124m2024-04-05\u001b[39m\u001b[38;5;124m'\u001b[39m],\n\u001b[0;32m      4\u001b[0m     \u001b[38;5;124m'\u001b[39m\u001b[38;5;124mNotes\u001b[39m\u001b[38;5;124m'\u001b[39m: [\u001b[38;5;124m'\u001b[39m\u001b[38;5;124mStable\u001b[39m\u001b[38;5;124m'\u001b[39m, \u001b[38;5;124m'\u001b[39m\u001b[38;5;124mNeeds adjustment\u001b[39m\u001b[38;5;124m'\u001b[39m, \u001b[38;5;124m'\u001b[39m\u001b[38;5;124mAdherence issues\u001b[39m\u001b[38;5;124m'\u001b[39m, \u001b[38;5;124m'\u001b[39m\u001b[38;5;124mImproved\u001b[39m\u001b[38;5;124m'\u001b[39m]\n\u001b[0;32m      5\u001b[0m }\n\u001b[1;32m----> 6\u001b[0m df_additional \u001b[38;5;241m=\u001b[39m pd\u001b[38;5;241m.\u001b[39mDataFrame(additional_data)\n",
      "\u001b[1;31mNameError\u001b[0m: name 'pd' is not defined"
     ]
    }
   ],
   "source": [
    "additional_data = {\n",
    "    'Patient_ID': [101, 102, 103, 104],\n",
    "    'Follow_Up_Visit': ['2024-01-15', '2024-02-20', '2024-03-10', '2024-04-05'],\n",
    "    'Notes': ['Stable', 'Needs adjustment', 'Adherence issues', 'Improved']\n",
    "}\n",
    "df_additional = pd.DataFrame(additional_data)"
   ]
  },
  {
   "cell_type": "code",
   "execution_count": 3,
   "id": "cafbce1e-5e15-4383-8b02-29b7cc20be57",
   "metadata": {},
   "outputs": [
    {
     "ename": "NameError",
     "evalue": "name 'pd' is not defined",
     "output_type": "error",
     "traceback": [
      "\u001b[1;31m---------------------------------------------------------------------------\u001b[0m",
      "\u001b[1;31mNameError\u001b[0m                                 Traceback (most recent call last)",
      "Cell \u001b[1;32mIn[3], line 1\u001b[0m\n\u001b[1;32m----> 1\u001b[0m df_additional[\u001b[38;5;124m'\u001b[39m\u001b[38;5;124mFollow_Up_Visit\u001b[39m\u001b[38;5;124m'\u001b[39m] \u001b[38;5;241m=\u001b[39m pd\u001b[38;5;241m.\u001b[39mto_datetime(df_additional[\u001b[38;5;124m'\u001b[39m\u001b[38;5;124mFollow_Up_Visit\u001b[39m\u001b[38;5;124m'\u001b[39m])\n",
      "\u001b[1;31mNameError\u001b[0m: name 'pd' is not defined"
     ]
    }
   ],
   "source": [
    "df_additional['Follow_Up_Visit'] = pd.to_datetime(df_additional['Follow_Up_Visit'])"
   ]
  },
  {
   "cell_type": "code",
   "execution_count": 4,
   "id": "1dc63d3d-4d5c-452e-b721-8145fdb0f1de",
   "metadata": {},
   "outputs": [
    {
     "ename": "NameError",
     "evalue": "name 'pd' is not defined",
     "output_type": "error",
     "traceback": [
      "\u001b[1;31m---------------------------------------------------------------------------\u001b[0m",
      "\u001b[1;31mNameError\u001b[0m                                 Traceback (most recent call last)",
      "Cell \u001b[1;32mIn[4], line 1\u001b[0m\n\u001b[1;32m----> 1\u001b[0m df \u001b[38;5;241m=\u001b[39m pd\u001b[38;5;241m.\u001b[39mread_excel(\u001b[38;5;124m'\u001b[39m\u001b[38;5;124madditional_data.xlsx\u001b[39m\u001b[38;5;124m'\u001b[39m)\n",
      "\u001b[1;31mNameError\u001b[0m: name 'pd' is not defined"
     ]
    }
   ],
   "source": [
    "df = pd.read_excel('additional_data.xlsx')"
   ]
  },
  {
   "cell_type": "code",
   "execution_count": 5,
   "id": "ea908e14-9f71-476d-bef6-811be0e11589",
   "metadata": {},
   "outputs": [],
   "source": [
    "additional_data = {\n",
    "    'Patient_ID': [101, 102, 103, 104],\n",
    "    'Follow_Up_Visit': ['2024-01-15', '2024-02-20', '2024-03-10', '2024-04-05'],\n",
    "    'Notes': ['Stable', 'Needs adjustment', 'Adherence issues', 'Improved']\n",
    "}"
   ]
  },
  {
   "cell_type": "code",
   "execution_count": 6,
   "id": "050fc391-a912-4bdf-9d67-b858d194ab29",
   "metadata": {},
   "outputs": [
    {
     "ename": "NameError",
     "evalue": "name 'pd' is not defined",
     "output_type": "error",
     "traceback": [
      "\u001b[1;31m---------------------------------------------------------------------------\u001b[0m",
      "\u001b[1;31mNameError\u001b[0m                                 Traceback (most recent call last)",
      "Cell \u001b[1;32mIn[6], line 2\u001b[0m\n\u001b[0;32m      1\u001b[0m \u001b[38;5;66;03m# Merge datasets on Patient_ID\u001b[39;00m\n\u001b[1;32m----> 2\u001b[0m df_merged \u001b[38;5;241m=\u001b[39m pd\u001b[38;5;241m.\u001b[39mmerge(df_cleaned, df_additional, on\u001b[38;5;241m=\u001b[39m\u001b[38;5;124m'\u001b[39m\u001b[38;5;124mPatient_ID\u001b[39m\u001b[38;5;124m'\u001b[39m, how\u001b[38;5;241m=\u001b[39m\u001b[38;5;124m'\u001b[39m\u001b[38;5;124mleft\u001b[39m\u001b[38;5;124m'\u001b[39m)\n",
      "\u001b[1;31mNameError\u001b[0m: name 'pd' is not defined"
     ]
    }
   ],
   "source": [
    "# Merge datasets on Patient_ID\n",
    "df_merged = pd.merge(df_cleaned, df_additional, on='Patient_ID', how='left')"
   ]
  },
  {
   "cell_type": "code",
   "execution_count": 7,
   "id": "b32944b6-588e-4fbd-94a3-f8b8fed3a30c",
   "metadata": {},
   "outputs": [
    {
     "ename": "NameError",
     "evalue": "name 'pd' is not defined",
     "output_type": "error",
     "traceback": [
      "\u001b[1;31m---------------------------------------------------------------------------\u001b[0m",
      "\u001b[1;31mNameError\u001b[0m                                 Traceback (most recent call last)",
      "Cell \u001b[1;32mIn[7], line 1\u001b[0m\n\u001b[1;32m----> 1\u001b[0m df_merged \u001b[38;5;241m=\u001b[39m pd\u001b[38;5;241m.\u001b[39mmerge(df_cleaned, df_additional, on\u001b[38;5;241m=\u001b[39m\u001b[38;5;124m'\u001b[39m\u001b[38;5;124mPatient_ID\u001b[39m\u001b[38;5;124m'\u001b[39m, how\u001b[38;5;241m=\u001b[39m\u001b[38;5;124m'\u001b[39m\u001b[38;5;124mleft\u001b[39m\u001b[38;5;124m'\u001b[39m)\n",
      "\u001b[1;31mNameError\u001b[0m: name 'pd' is not defined"
     ]
    }
   ],
   "source": [
    "df_merged = pd.merge(df_cleaned, df_additional, on='Patient_ID', how='left')"
   ]
  },
  {
   "cell_type": "code",
   "execution_count": 8,
   "id": "03563bb9-3c6d-4bf6-bdea-149b7fea2ddb",
   "metadata": {},
   "outputs": [
    {
     "ename": "NameError",
     "evalue": "name 'df_merged' is not defined",
     "output_type": "error",
     "traceback": [
      "\u001b[1;31m---------------------------------------------------------------------------\u001b[0m",
      "\u001b[1;31mNameError\u001b[0m                                 Traceback (most recent call last)",
      "Cell \u001b[1;32mIn[8], line 5\u001b[0m\n\u001b[0;32m      2\u001b[0m \u001b[38;5;28;01mimport\u001b[39;00m \u001b[38;5;21;01mseaborn\u001b[39;00m \u001b[38;5;28;01mas\u001b[39;00m \u001b[38;5;21;01msns\u001b[39;00m\n\u001b[0;32m      4\u001b[0m \u001b[38;5;66;03m# Summary statistics\u001b[39;00m\n\u001b[1;32m----> 5\u001b[0m \u001b[38;5;28mprint\u001b[39m(df_merged\u001b[38;5;241m.\u001b[39mdescribe(include\u001b[38;5;241m=\u001b[39m\u001b[38;5;124m'\u001b[39m\u001b[38;5;124mall\u001b[39m\u001b[38;5;124m'\u001b[39m))\n\u001b[0;32m      7\u001b[0m \u001b[38;5;66;03m# Visualizations\u001b[39;00m\n\u001b[0;32m      8\u001b[0m sns\u001b[38;5;241m.\u001b[39mhistplot(df_merged[\u001b[38;5;124m'\u001b[39m\u001b[38;5;124mAge\u001b[39m\u001b[38;5;124m'\u001b[39m])\n",
      "\u001b[1;31mNameError\u001b[0m: name 'df_merged' is not defined"
     ]
    }
   ],
   "source": [
    "import matplotlib.pyplot as plt\n",
    "import seaborn as sns\n",
    "\n",
    "# Summary statistics\n",
    "print(df_merged.describe(include='all'))\n",
    "\n",
    "# Visualizations\n",
    "sns.histplot(df_merged['Age'])\n",
    "plt.title('Age Distribution')\n",
    "plt.show()\n",
    "\n",
    "sns.boxplot(x='Gender', y='Viral_Load', data=df_merged)\n",
    "plt.title('Viral Load by Gender')\n",
    "plt.show()\n",
    "\n",
    "sns.heatmap(df_merged.corr(), annot=True, cmap='coolwarm')\n",
    "plt.title('Correlation Heatmap')\n",
    "plt.show()"
   ]
  },
  {
   "cell_type": "code",
   "execution_count": 9,
   "id": "5b939ec6-bf50-4f4f-8b86-3778f4ad1734",
   "metadata": {},
   "outputs": [
    {
     "ename": "NameError",
     "evalue": "name 'df_merged' is not defined",
     "output_type": "error",
     "traceback": [
      "\u001b[1;31m---------------------------------------------------------------------------\u001b[0m",
      "\u001b[1;31mNameError\u001b[0m                                 Traceback (most recent call last)",
      "Cell \u001b[1;32mIn[9], line 1\u001b[0m\n\u001b[1;32m----> 1\u001b[0m \u001b[38;5;28mprint\u001b[39m(df_merged\u001b[38;5;241m.\u001b[39mdescribe(include\u001b[38;5;241m=\u001b[39m\u001b[38;5;124m'\u001b[39m\u001b[38;5;124mall\u001b[39m\u001b[38;5;124m'\u001b[39m))\n",
      "\u001b[1;31mNameError\u001b[0m: name 'df_merged' is not defined"
     ]
    }
   ],
   "source": [
    "print(df_merged.describe(include='all'))"
   ]
  },
  {
   "cell_type": "code",
   "execution_count": 10,
   "id": "4ad05b51-d745-467f-addc-fbb43c7b25a0",
   "metadata": {},
   "outputs": [
    {
     "name": "stdout",
     "output_type": "stream",
     "text": [
      "   Patient_ID Follow_Up_Visit             Notes\n",
      "0         101      2024-01-15            Stable\n",
      "1         102      2024-02-20  Needs adjustment\n",
      "2         103      2024-03-10  Adherence issues\n",
      "3         104      2024-04-05          Improved\n"
     ]
    }
   ],
   "source": [
    "import pandas as pd\n",
    "\n",
    "# Define additional data\n",
    "additional_data = {\n",
    "    'Patient_ID': [101, 102, 103, 104],\n",
    "    'Follow_Up_Visit': ['2024-01-15', '2024-02-20', '2024-03-10', '2024-04-05'],\n",
    "    'Notes': ['Stable', 'Needs adjustment', 'Adherence issues', 'Improved']\n",
    "}\n",
    "\n",
    "# Create DataFrame\n",
    "df_additional = pd.DataFrame(additional_data)\n",
    "\n",
    "# Convert 'Follow_Up_Visit' to datetime\n",
    "df_additional['Follow_Up_Visit'] = pd.to_datetime(df_additional['Follow_Up_Visit'])\n",
    "\n",
    "# Display the DataFrame\n",
    "print(df_additional)"
   ]
  },
  {
   "cell_type": "code",
   "execution_count": 11,
   "id": "8f6a3fda-bf14-481c-a3c4-645ccaf6792f",
   "metadata": {},
   "outputs": [
    {
     "ename": "KeyError",
     "evalue": "'Follow_Up_Visit'",
     "output_type": "error",
     "traceback": [
      "\u001b[1;31m---------------------------------------------------------------------------\u001b[0m",
      "\u001b[1;31mKeyError\u001b[0m                                  Traceback (most recent call last)",
      "Cell \u001b[1;32mIn[11], line 13\u001b[0m\n\u001b[0;32m     10\u001b[0m df_additional \u001b[38;5;241m=\u001b[39m pd\u001b[38;5;241m.\u001b[39mDataFrame(additional_data)\n\u001b[0;32m     12\u001b[0m \u001b[38;5;66;03m# Convert 'Follow_Up_Visit' to datetime\u001b[39;00m\n\u001b[1;32m---> 13\u001b[0m df_additional[\u001b[38;5;124m'\u001b[39m\u001b[38;5;124mFollow_Up_Visit\u001b[39m\u001b[38;5;124m'\u001b[39m] \u001b[38;5;241m=\u001b[39m pd\u001b[38;5;241m.\u001b[39mto_datetime(df_additional[\u001b[38;5;124m'\u001b[39m\u001b[38;5;124mFollow_Up_Visit\u001b[39m\u001b[38;5;124m'\u001b[39m])\n\u001b[0;32m     15\u001b[0m \u001b[38;5;66;03m# Display the DataFrame\u001b[39;00m\n\u001b[0;32m     16\u001b[0m \u001b[38;5;28mprint\u001b[39m(df_additional)\n",
      "File \u001b[1;32m~\\anaconda3\\Lib\\site-packages\\pandas\\core\\frame.py:4102\u001b[0m, in \u001b[0;36mDataFrame.__getitem__\u001b[1;34m(self, key)\u001b[0m\n\u001b[0;32m   4100\u001b[0m \u001b[38;5;28;01mif\u001b[39;00m \u001b[38;5;28mself\u001b[39m\u001b[38;5;241m.\u001b[39mcolumns\u001b[38;5;241m.\u001b[39mnlevels \u001b[38;5;241m>\u001b[39m \u001b[38;5;241m1\u001b[39m:\n\u001b[0;32m   4101\u001b[0m     \u001b[38;5;28;01mreturn\u001b[39;00m \u001b[38;5;28mself\u001b[39m\u001b[38;5;241m.\u001b[39m_getitem_multilevel(key)\n\u001b[1;32m-> 4102\u001b[0m indexer \u001b[38;5;241m=\u001b[39m \u001b[38;5;28mself\u001b[39m\u001b[38;5;241m.\u001b[39mcolumns\u001b[38;5;241m.\u001b[39mget_loc(key)\n\u001b[0;32m   4103\u001b[0m \u001b[38;5;28;01mif\u001b[39;00m is_integer(indexer):\n\u001b[0;32m   4104\u001b[0m     indexer \u001b[38;5;241m=\u001b[39m [indexer]\n",
      "File \u001b[1;32m~\\anaconda3\\Lib\\site-packages\\pandas\\core\\indexes\\range.py:417\u001b[0m, in \u001b[0;36mRangeIndex.get_loc\u001b[1;34m(self, key)\u001b[0m\n\u001b[0;32m    415\u001b[0m         \u001b[38;5;28;01mraise\u001b[39;00m \u001b[38;5;167;01mKeyError\u001b[39;00m(key) \u001b[38;5;28;01mfrom\u001b[39;00m \u001b[38;5;21;01merr\u001b[39;00m\n\u001b[0;32m    416\u001b[0m \u001b[38;5;28;01mif\u001b[39;00m \u001b[38;5;28misinstance\u001b[39m(key, Hashable):\n\u001b[1;32m--> 417\u001b[0m     \u001b[38;5;28;01mraise\u001b[39;00m \u001b[38;5;167;01mKeyError\u001b[39;00m(key)\n\u001b[0;32m    418\u001b[0m \u001b[38;5;28mself\u001b[39m\u001b[38;5;241m.\u001b[39m_check_indexing_error(key)\n\u001b[0;32m    419\u001b[0m \u001b[38;5;28;01mraise\u001b[39;00m \u001b[38;5;167;01mKeyError\u001b[39;00m(key)\n",
      "\u001b[1;31mKeyError\u001b[0m: 'Follow_Up_Visit'"
     ]
    }
   ],
   "source": [
    "import pandas as pd\n",
    "\n",
    "# Define additional data\n",
    "additional_data = {\n",
    "    'Patient_ID',\n",
    "    'Follow_Up_Visit', 'Notes'\n",
    "}\n",
    "\n",
    "# Create DataFrame\n",
    "df_additional = pd.DataFrame(additional_data)\n",
    "\n",
    "# Convert 'Follow_Up_Visit' to datetime\n",
    "df_additional['Follow_Up_Visit'] = pd.to_datetime(df_additional['Follow_Up_Visit'])\n",
    "\n",
    "# Display the DataFrame\n",
    "print(df_additional)"
   ]
  },
  {
   "cell_type": "code",
   "execution_count": 12,
   "id": "125a8c81-c028-4c69-b6b4-4403d7f58ea1",
   "metadata": {},
   "outputs": [
    {
     "ename": "NameError",
     "evalue": "name 'df_cleaned' is not defined",
     "output_type": "error",
     "traceback": [
      "\u001b[1;31m---------------------------------------------------------------------------\u001b[0m",
      "\u001b[1;31mNameError\u001b[0m                                 Traceback (most recent call last)",
      "Cell \u001b[1;32mIn[12], line 2\u001b[0m\n\u001b[0;32m      1\u001b[0m \u001b[38;5;66;03m# Merge datasets on Patient_ID\u001b[39;00m\n\u001b[1;32m----> 2\u001b[0m df_merged \u001b[38;5;241m=\u001b[39m pd\u001b[38;5;241m.\u001b[39mmerge(df_cleaned, df_additional, on\u001b[38;5;241m=\u001b[39m\u001b[38;5;124m'\u001b[39m\u001b[38;5;124mPatient_ID\u001b[39m\u001b[38;5;124m'\u001b[39m, how\u001b[38;5;241m=\u001b[39m\u001b[38;5;124m'\u001b[39m\u001b[38;5;124mleft\u001b[39m\u001b[38;5;124m'\u001b[39m)\n",
      "\u001b[1;31mNameError\u001b[0m: name 'df_cleaned' is not defined"
     ]
    }
   ],
   "source": [
    "# Merge datasets on Patient_ID\n",
    "df_merged = pd.merge(df_cleaned, df_additional, on='Patient_ID', how='left')"
   ]
  },
  {
   "cell_type": "code",
   "execution_count": 13,
   "id": "2ba30ffd-26ca-41d4-97b3-a5b7458c7438",
   "metadata": {},
   "outputs": [
    {
     "name": "stdout",
     "output_type": "stream",
     "text": [
      "\n",
      "DataFrame Snapshot Before Cleaning:\n"
     ]
    },
    {
     "ename": "NameError",
     "evalue": "name 'df' is not defined",
     "output_type": "error",
     "traceback": [
      "\u001b[1;31m---------------------------------------------------------------------------\u001b[0m",
      "\u001b[1;31mNameError\u001b[0m                                 Traceback (most recent call last)",
      "Cell \u001b[1;32mIn[13], line 2\u001b[0m\n\u001b[0;32m      1\u001b[0m \u001b[38;5;28mprint\u001b[39m(\u001b[38;5;124m\"\u001b[39m\u001b[38;5;130;01m\\n\u001b[39;00m\u001b[38;5;124mDataFrame Snapshot Before Cleaning:\u001b[39m\u001b[38;5;124m\"\u001b[39m)\n\u001b[1;32m----> 2\u001b[0m \u001b[38;5;28mprint\u001b[39m(df\u001b[38;5;241m.\u001b[39mhead())\n\u001b[0;32m      4\u001b[0m df_cleaned \u001b[38;5;241m=\u001b[39m df\u001b[38;5;241m.\u001b[39mcopy()  \u001b[38;5;66;03m# Work on a copy for demonstration\u001b[39;00m\n\u001b[0;32m      6\u001b[0m \u001b[38;5;66;03m# Apply cleaning steps...\u001b[39;00m\n",
      "\u001b[1;31mNameError\u001b[0m: name 'df' is not defined"
     ]
    }
   ],
   "source": [
    "print(\"\\nDataFrame Snapshot Before Cleaning:\")\n",
    "print(df.head())\n",
    "\n",
    "df_cleaned = df.copy()  # Work on a copy for demonstration\n",
    "\n",
    "# Apply cleaning steps...\n",
    "\n",
    "print(\"\\nDataFrame Snapshot After Cleaning:\")\n",
    "print(df_cleaned.head())"
   ]
  },
  {
   "cell_type": "code",
   "execution_count": 14,
   "id": "a72f4d6f-d7d6-4251-9bf5-b60f08199beb",
   "metadata": {},
   "outputs": [],
   "source": [
    "import pandas as pd"
   ]
  },
  {
   "cell_type": "code",
   "execution_count": 15,
   "id": "21e46459-8920-4a74-a74f-f97af3fdd5fd",
   "metadata": {},
   "outputs": [
    {
     "ename": "NameError",
     "evalue": "name 'df' is not defined",
     "output_type": "error",
     "traceback": [
      "\u001b[1;31m---------------------------------------------------------------------------\u001b[0m",
      "\u001b[1;31mNameError\u001b[0m                                 Traceback (most recent call last)",
      "Cell \u001b[1;32mIn[15], line 2\u001b[0m\n\u001b[0;32m      1\u001b[0m \u001b[38;5;66;03m# Convert dates to datetime format\u001b[39;00m\n\u001b[1;32m----> 2\u001b[0m df[\u001b[38;5;124m'\u001b[39m\u001b[38;5;124mDate_of_Diagnosis\u001b[39m\u001b[38;5;124m'\u001b[39m] \u001b[38;5;241m=\u001b[39m pd\u001b[38;5;241m.\u001b[39mto_datetime(df[\u001b[38;5;124m'\u001b[39m\u001b[38;5;124mDate_of_Diagnosis\u001b[39m\u001b[38;5;124m'\u001b[39m])\n\u001b[0;32m      3\u001b[0m df[\u001b[38;5;124m'\u001b[39m\u001b[38;5;124mTreatment_Start_Date\u001b[39m\u001b[38;5;124m'\u001b[39m] \u001b[38;5;241m=\u001b[39m pd\u001b[38;5;241m.\u001b[39mto_datetime(df[\u001b[38;5;124m'\u001b[39m\u001b[38;5;124mTreatment_Start_Date\u001b[39m\u001b[38;5;124m'\u001b[39m])\n\u001b[0;32m      4\u001b[0m df[\u001b[38;5;124m'\u001b[39m\u001b[38;5;124mLast_Visit_Date\u001b[39m\u001b[38;5;124m'\u001b[39m] \u001b[38;5;241m=\u001b[39m pd\u001b[38;5;241m.\u001b[39mto_datetime(df[\u001b[38;5;124m'\u001b[39m\u001b[38;5;124mLast_Visit_Date\u001b[39m\u001b[38;5;124m'\u001b[39m])\n",
      "\u001b[1;31mNameError\u001b[0m: name 'df' is not defined"
     ]
    }
   ],
   "source": [
    "# Convert dates to datetime format\n",
    "df['Date_of_Diagnosis'] = pd.to_datetime(df['Date_of_Diagnosis'])\n",
    "df['Treatment_Start_Date'] = pd.to_datetime(df['Treatment_Start_Date'])\n",
    "df['Last_Visit_Date'] = pd.to_datetime(df['Last_Visit_Date'])\n",
    "\n",
    "# Convert numerical data to appropriate types\n",
    "df['Age'] = df['Age'].astype(int)\n",
    "df['Viral_Load'] = df['Viral_Load'].astype(float)\n",
    "df['CD4_Count'] = df['CD4_Count'].astype(float)"
   ]
  },
  {
   "cell_type": "code",
   "execution_count": null,
   "id": "1d5598fd-1eb5-49a3-bcc9-ed7b8c3a923f",
   "metadata": {},
   "outputs": [],
   "source": []
  }
 ],
 "metadata": {
  "kernelspec": {
   "display_name": "Python 3 (ipykernel)",
   "language": "python",
   "name": "python3"
  },
  "language_info": {
   "codemirror_mode": {
    "name": "ipython",
    "version": 3
   },
   "file_extension": ".py",
   "mimetype": "text/x-python",
   "name": "python",
   "nbconvert_exporter": "python",
   "pygments_lexer": "ipython3",
   "version": "3.12.4"
  }
 },
 "nbformat": 4,
 "nbformat_minor": 5
}
