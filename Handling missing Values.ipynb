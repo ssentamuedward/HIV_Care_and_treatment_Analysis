{
 "cells": [
  {
   "cell_type": "code",
   "execution_count": 1,
   "id": "4ca6631a-9798-423b-9885-51e54810afd6",
   "metadata": {},
   "outputs": [],
   "source": [
    "import pandas as pd\n",
    "\n",
    "# Load dataset\n",
    "df = pd.read_excel('hiv_care_treatment.xlsx')"
   ]
  },
  {
   "cell_type": "code",
   "execution_count": 2,
   "id": "326201aa-6400-4840-8f46-6f28cc226f2b",
   "metadata": {},
   "outputs": [
    {
     "name": "stdout",
     "output_type": "stream",
     "text": [
      "Original DataFrame:\n",
      "  Patient_ID  Age Gender Date_of_Diagnosis Treatment_Start_Date  \\\n",
      "0   KYM 0756   21      F        2019-08-06           2019-08-06   \n",
      "1   KYM 0710   33      F        2020-01-16           2020-01-16   \n",
      "2   KYM 0735   23      F        2020-04-05           2020-04-05   \n",
      "3   KYM 0723   51      F        2014-11-13           2014-11-13   \n",
      "4   KYM 0741   44      M        2020-04-14           2020-04-14   \n",
      "\n",
      "  Treatment_Type  Viral_Load  CD4_Count Adherence_Level Side_Effects  \\\n",
      "0    TDF/3TC/DTG         1.0        NaN  GOOD ADHERENCE   2023-12-05   \n",
      "1    TDF/3TC/DTG    188000.0        NaN  GOOD ADHERENCE   2022-10-04   \n",
      "2    TDF/3TC/DTG     17690.0        NaN  GOOD ADHERENCE   2021-09-28   \n",
      "3    TDF/3TC/DTG         1.0        NaN  GOOD ADHERENCE   2022-05-10   \n",
      "4    TDF/3TC/DTG         1.0        NaN  GOOD ADHERENCE   2024-05-08   \n",
      "\n",
      "  Last_Visit_Date  \n",
      "0      2024-01-23  \n",
      "1      2022-11-01  \n",
      "2      2021-10-26  \n",
      "3      2022-08-02  \n",
      "4      2024-07-31  \n",
      "\n",
      "DataFrame Info:\n",
      "<class 'pandas.core.frame.DataFrame'>\n",
      "RangeIndex: 1013 entries, 0 to 1012\n",
      "Data columns (total 11 columns):\n",
      " #   Column                Non-Null Count  Dtype         \n",
      "---  ------                --------------  -----         \n",
      " 0   Patient_ID            1013 non-null   object        \n",
      " 1   Age                   1013 non-null   int64         \n",
      " 2   Gender                1013 non-null   object        \n",
      " 3   Date_of_Diagnosis     970 non-null    datetime64[ns]\n",
      " 4   Treatment_Start_Date  970 non-null    datetime64[ns]\n",
      " 5   Treatment_Type        938 non-null    object        \n",
      " 6   Viral_Load            648 non-null    float64       \n",
      " 7   CD4_Count             76 non-null     float64       \n",
      " 8   Adherence_Level       844 non-null    object        \n",
      " 9   Side_Effects          1013 non-null   datetime64[ns]\n",
      " 10  Last_Visit_Date       945 non-null    datetime64[ns]\n",
      "dtypes: datetime64[ns](4), float64(2), int64(1), object(4)\n",
      "memory usage: 87.2+ KB\n",
      "None\n",
      "\n",
      "Missing Values:\n",
      "Patient_ID                0\n",
      "Age                       0\n",
      "Gender                    0\n",
      "Date_of_Diagnosis        43\n",
      "Treatment_Start_Date     43\n",
      "Treatment_Type           75\n",
      "Viral_Load              365\n",
      "CD4_Count               937\n",
      "Adherence_Level         169\n",
      "Side_Effects              0\n",
      "Last_Visit_Date          68\n",
      "dtype: int64\n"
     ]
    }
   ],
   "source": [
    "print(\"Original DataFrame:\")\n",
    "print(df.head())\n",
    "print(\"\\nDataFrame Info:\")\n",
    "print(df.info())\n",
    "print(\"\\nMissing Values:\")\n",
    "print(df.isna().sum())"
   ]
  },
  {
   "cell_type": "code",
   "execution_count": 3,
   "id": "dd719938-2d50-495d-b8ba-05456c577d2e",
   "metadata": {},
   "outputs": [
    {
     "name": "stderr",
     "output_type": "stream",
     "text": [
      "C:\\Users\\Stores\\AppData\\Local\\Temp\\ipykernel_7416\\1219786649.py:2: FutureWarning: A value is trying to be set on a copy of a DataFrame or Series through chained assignment using an inplace method.\n",
      "The behavior will change in pandas 3.0. This inplace method will never work because the intermediate object on which we are setting values always behaves as a copy.\n",
      "\n",
      "For example, when doing 'df[col].method(value, inplace=True)', try using 'df.method({col: value}, inplace=True)' or df[col] = df[col].method(value) instead, to perform the operation inplace on the original object.\n",
      "\n",
      "\n",
      "  df['Viral_Load'].fillna(df['Viral_Load'].mean(), inplace=True)\n",
      "C:\\Users\\Stores\\AppData\\Local\\Temp\\ipykernel_7416\\1219786649.py:3: FutureWarning: A value is trying to be set on a copy of a DataFrame or Series through chained assignment using an inplace method.\n",
      "The behavior will change in pandas 3.0. This inplace method will never work because the intermediate object on which we are setting values always behaves as a copy.\n",
      "\n",
      "For example, when doing 'df[col].method(value, inplace=True)', try using 'df.method({col: value}, inplace=True)' or df[col] = df[col].method(value) instead, to perform the operation inplace on the original object.\n",
      "\n",
      "\n",
      "  df['CD4_Count'].fillna(df['CD4_Count'].median(), inplace=True)\n"
     ]
    }
   ],
   "source": [
    "# Fill missing values or drop rows/columns\n",
    "df['Viral_Load'].fillna(df['Viral_Load'].mean(), inplace=True)\n",
    "df['CD4_Count'].fillna(df['CD4_Count'].median(), inplace=True)\n",
    "df.dropna(subset=['Patient_ID'], inplace=True)  # Essential column\n",
    "\n",
    "# Alternatively, drop columns with too many missing values\n",
    "df.dropna(thresh=len(df)*0.5, axis=1, inplace=True)"
   ]
  },
  {
   "cell_type": "code",
   "execution_count": 4,
   "id": "315ef659-4cec-4589-961c-cde74a83a66b",
   "metadata": {},
   "outputs": [
    {
     "name": "stdout",
     "output_type": "stream",
     "text": [
      "\n",
      "Duplicates Before Removal:\n",
      "0\n",
      "\n",
      "Duplicates After Removal:\n",
      "0\n"
     ]
    }
   ],
   "source": [
    "print(\"\\nDuplicates Before Removal:\")\n",
    "print(df.duplicated().sum())\n",
    "\n",
    "df.drop_duplicates(inplace=True)\n",
    "\n",
    "print(\"\\nDuplicates After Removal:\")\n",
    "print(df.duplicated().sum())"
   ]
  },
  {
   "cell_type": "code",
   "execution_count": 5,
   "id": "3362dcb0-c09e-47f7-ab17-f2415edd400e",
   "metadata": {},
   "outputs": [],
   "source": [
    "# Standardize 'Gender' column\n",
    "df['Gender'] = df['Gender'].str.upper().replace({'FEMALE': 'F', 'MALE': 'M'})\n",
    "\n",
    "# Correct any typos in 'Treatment_Type'\n",
    "df['Treatment_Type'] = df['Treatment_Type'].str.upper().replace({'ART': 'Antiretroviral Therapy', 'PREP': 'Pre-Exposure Prophylaxis'})"
   ]
  },
  {
   "cell_type": "code",
   "execution_count": 6,
   "id": "d8bcab2e-5dd1-46aa-861b-2ac1eb1c5dea",
   "metadata": {},
   "outputs": [],
   "source": [
    "# Convert dates to datetime format\n",
    "df['Date_of_Diagnosis'] = pd.to_datetime(df['Date_of_Diagnosis'])\n",
    "df['Treatment_Start_Date'] = pd.to_datetime(df['Treatment_Start_Date'])\n",
    "df['Last_Visit_Date'] = pd.to_datetime(df['Last_Visit_Date'])\n",
    "\n",
    "# Convert numerical data to appropriate types\n",
    "df['Age'] = df['Age'].astype(int)\n",
    "df['Viral_Load'] = df['Viral_Load'].astype(float)\n",
    "df['CD4_Count'] = df['CD4_Count'].astype(float)"
   ]
  },
  {
   "cell_type": "code",
   "execution_count": 7,
   "id": "64d200d4-cc70-4d9d-95ba-371804e3bafc",
   "metadata": {},
   "outputs": [
    {
     "name": "stdout",
     "output_type": "stream",
     "text": [
      "\n",
      "DataFrame Snapshot Before Cleaning:\n",
      "  Patient_ID  Age Gender Date_of_Diagnosis Treatment_Start_Date  \\\n",
      "0   KYM 0756   21      F        2019-08-06           2019-08-06   \n",
      "1   KYM 0710   33      F        2020-01-16           2020-01-16   \n",
      "2   KYM 0735   23      F        2020-04-05           2020-04-05   \n",
      "3   KYM 0723   51      F        2014-11-13           2014-11-13   \n",
      "4   KYM 0741   44      M        2020-04-14           2020-04-14   \n",
      "\n",
      "  Treatment_Type  Viral_Load  CD4_Count Adherence_Level Side_Effects  \\\n",
      "0    TDF/3TC/DTG         1.0      470.5  GOOD ADHERENCE   2023-12-05   \n",
      "1    TDF/3TC/DTG    188000.0      470.5  GOOD ADHERENCE   2022-10-04   \n",
      "2    TDF/3TC/DTG     17690.0      470.5  GOOD ADHERENCE   2021-09-28   \n",
      "3    TDF/3TC/DTG         1.0      470.5  GOOD ADHERENCE   2022-05-10   \n",
      "4    TDF/3TC/DTG         1.0      470.5  GOOD ADHERENCE   2024-05-08   \n",
      "\n",
      "  Last_Visit_Date  \n",
      "0      2024-01-23  \n",
      "1      2022-11-01  \n",
      "2      2021-10-26  \n",
      "3      2022-08-02  \n",
      "4      2024-07-31  \n",
      "\n",
      "DataFrame Snapshot After Cleaning:\n",
      "  Patient_ID  Age Gender Date_of_Diagnosis Treatment_Start_Date  \\\n",
      "0   KYM 0756   21      F        2019-08-06           2019-08-06   \n",
      "1   KYM 0710   33      F        2020-01-16           2020-01-16   \n",
      "2   KYM 0735   23      F        2020-04-05           2020-04-05   \n",
      "3   KYM 0723   51      F        2014-11-13           2014-11-13   \n",
      "4   KYM 0741   44      M        2020-04-14           2020-04-14   \n",
      "\n",
      "  Treatment_Type  Viral_Load  CD4_Count Adherence_Level Side_Effects  \\\n",
      "0    TDF/3TC/DTG         1.0      470.5  GOOD ADHERENCE   2023-12-05   \n",
      "1    TDF/3TC/DTG    188000.0      470.5  GOOD ADHERENCE   2022-10-04   \n",
      "2    TDF/3TC/DTG     17690.0      470.5  GOOD ADHERENCE   2021-09-28   \n",
      "3    TDF/3TC/DTG         1.0      470.5  GOOD ADHERENCE   2022-05-10   \n",
      "4    TDF/3TC/DTG         1.0      470.5  GOOD ADHERENCE   2024-05-08   \n",
      "\n",
      "  Last_Visit_Date  \n",
      "0      2024-01-23  \n",
      "1      2022-11-01  \n",
      "2      2021-10-26  \n",
      "3      2022-08-02  \n",
      "4      2024-07-31  \n"
     ]
    }
   ],
   "source": [
    "print(\"\\nDataFrame Snapshot Before Cleaning:\")\n",
    "print(df.head())\n",
    "\n",
    "df_cleaned = df.copy()  # Work on a copy for demonstration\n",
    "\n",
    "# Apply cleaning steps...\n",
    "\n",
    "print(\"\\nDataFrame Snapshot After Cleaning:\")\n",
    "print(df_cleaned.head())"
   ]
  },
  {
   "cell_type": "code",
   "execution_count": 8,
   "id": "b411d6b4-5c96-4c9a-85ac-9b2953e95832",
   "metadata": {},
   "outputs": [],
   "source": [
    "additional_data = {\n",
    "    'Patient_ID': [101, 102, 103, 104],\n",
    "    'Follow_Up_Visit': ['2024-01-15', '2024-02-20', '2024-03-10', '2024-04-05'],\n",
    "    'Notes': ['Stable', 'Needs adjustment', 'Adherence issues', 'Improved']\n",
    "}\n",
    "df_additional = pd.DataFrame(additional_data)\n",
    "df_additional['Follow_Up_Visit'] = pd.to_datetime(df_additional['Follow_Up_Visit'])"
   ]
  },
  {
   "cell_type": "code",
   "execution_count": 9,
   "id": "566d2db4-79f4-410f-b3d5-4b8e6b6be811",
   "metadata": {},
   "outputs": [],
   "source": [
    "# Merge datasets on Patient_ID\n",
    "df_merged = pd.merge(df_cleaned, df_additional, on='Patient_ID', how='left')"
   ]
  },
  {
   "cell_type": "code",
   "execution_count": 10,
   "id": "8321a12a-730b-47ab-b785-7a3253863688",
   "metadata": {
    "scrolled": true
   },
   "outputs": [
    {
     "name": "stdout",
     "output_type": "stream",
     "text": [
      "       Patient_ID          Age Gender              Date_of_Diagnosis  \\\n",
      "count        1013  1013.000000   1013                            970   \n",
      "unique       1013          NaN      2                            NaN   \n",
      "top      KYM 0756          NaN      F                            NaN   \n",
      "freq            1          NaN    682                            NaN   \n",
      "mean          NaN    36.809477    NaN  2017-10-06 02:35:52.577319680   \n",
      "min           NaN     2.000000    NaN            2005-07-19 00:00:00   \n",
      "25%           NaN    28.000000    NaN            2015-02-02 06:00:00   \n",
      "50%           NaN    35.000000    NaN            2018-02-26 00:00:00   \n",
      "75%           NaN    45.000000    NaN            2020-04-05 18:00:00   \n",
      "max           NaN    86.000000    NaN            2024-07-10 00:00:00   \n",
      "std           NaN    13.197355    NaN                            NaN   \n",
      "\n",
      "                 Treatment_Start_Date Treatment_Type     Viral_Load  \\\n",
      "count                             970            938    1013.000000   \n",
      "unique                            NaN             10            NaN   \n",
      "top                               NaN    TDF/3TC/DTG            NaN   \n",
      "freq                              NaN            690            NaN   \n",
      "mean    2017-10-06 02:35:52.577319680            NaN     731.692901   \n",
      "min               2005-07-19 00:00:00            NaN       1.000000   \n",
      "25%               2015-02-02 06:00:00            NaN       1.000000   \n",
      "50%               2018-02-26 00:00:00            NaN      30.000000   \n",
      "75%               2020-04-05 18:00:00            NaN     731.692901   \n",
      "max               2024-07-10 00:00:00            NaN  188000.000000   \n",
      "std                               NaN            NaN    6474.080712   \n",
      "\n",
      "          CD4_Count Adherence_Level                   Side_Effects  \\\n",
      "count   1013.000000             844                           1013   \n",
      "unique          NaN               3                            NaN   \n",
      "top             NaN  GOOD ADHERENCE                            NaN   \n",
      "freq            NaN             835                            NaN   \n",
      "mean     475.070582             NaN  2022-01-13 13:31:41.283316992   \n",
      "min       23.000000             NaN            2012-12-13 00:00:00   \n",
      "25%      470.500000             NaN            2020-01-14 00:00:00   \n",
      "50%      470.500000             NaN            2024-03-05 00:00:00   \n",
      "75%      470.500000             NaN            2024-06-04 00:00:00   \n",
      "max     1749.000000             NaN            2024-07-31 00:00:00   \n",
      "std       94.624425             NaN                            NaN   \n",
      "\n",
      "                      Last_Visit_Date Follow_Up_Visit Notes  \n",
      "count                             945               0     0  \n",
      "unique                            NaN             NaN     0  \n",
      "top                               NaN             NaN   NaN  \n",
      "freq                              NaN             NaN   NaN  \n",
      "mean    2022-10-09 01:25:20.000000256             NaT   NaN  \n",
      "min               2013-01-10 00:00:00             NaT   NaN  \n",
      "25%               2021-03-03 00:00:00             NaT   NaN  \n",
      "50%               2024-08-06 00:00:00             NaT   NaN  \n",
      "75%               2024-10-03 00:00:00             NaT   NaN  \n",
      "max               2025-07-28 00:00:00             NaT   NaN  \n",
      "std                               NaN             NaN   NaN  \n"
     ]
    },
    {
     "data": {
      "image/png": "[encoded data removed]",
      "text/plain": [
       "<Figure size 640x480 with 1 Axes>"
      ]
     },
     "metadata": {},
     "output_type": "display_data"
    },
    {
     "data": {
      "image/png": "[encoded data removed]",
      "text/plain": [
       "<Figure size 640x480 with 1 Axes>"
      ]
     },
     "metadata": {},
     "output_type": "display_data"
    },
    {
     "ename": "ValueError",
     "evalue": "could not convert string to float: 'KYM 0756'",
     "output_type": "error",
     "traceback": [
      "\u001b[1;31m---------------------------------------------------------------------------\u001b[0m",
      "\u001b[1;31mValueError\u001b[0m                                Traceback (most recent call last)",
      "Cell \u001b[1;32mIn[10], line 16\u001b[0m\n\u001b[0;32m     13\u001b[0m plt\u001b[38;5;241m.\u001b[39mtitle(\u001b[38;5;124m'\u001b[39m\u001b[38;5;124mViral Load by Gender\u001b[39m\u001b[38;5;124m'\u001b[39m)\n\u001b[0;32m     14\u001b[0m plt\u001b[38;5;241m.\u001b[39mshow()\n\u001b[1;32m---> 16\u001b[0m sns\u001b[38;5;241m.\u001b[39mheatmap(df_merged\u001b[38;5;241m.\u001b[39mcorr(), annot\u001b[38;5;241m=\u001b[39m\u001b[38;5;28;01mTrue\u001b[39;00m, cmap\u001b[38;5;241m=\u001b[39m\u001b[38;5;124m'\u001b[39m\u001b[38;5;124mcoolwarm\u001b[39m\u001b[38;5;124m'\u001b[39m)\n\u001b[0;32m     17\u001b[0m plt\u001b[38;5;241m.\u001b[39mtitle(\u001b[38;5;124m'\u001b[39m\u001b[38;5;124mCorrelation Heatmap\u001b[39m\u001b[38;5;124m'\u001b[39m)\n\u001b[0;32m     18\u001b[0m plt\u001b[38;5;241m.\u001b[39mshow()\n",
      "File \u001b[1;32m~\\anaconda3\\Lib\\site-packages\\pandas\\core\\frame.py:11049\u001b[0m, in \u001b[0;36mDataFrame.corr\u001b[1;34m(self, method, min_periods, numeric_only)\u001b[0m\n\u001b[0;32m  11047\u001b[0m cols \u001b[38;5;241m=\u001b[39m data\u001b[38;5;241m.\u001b[39mcolumns\n\u001b[0;32m  11048\u001b[0m idx \u001b[38;5;241m=\u001b[39m cols\u001b[38;5;241m.\u001b[39mcopy()\n\u001b[1;32m> 11049\u001b[0m mat \u001b[38;5;241m=\u001b[39m data\u001b[38;5;241m.\u001b[39mto_numpy(dtype\u001b[38;5;241m=\u001b[39m\u001b[38;5;28mfloat\u001b[39m, na_value\u001b[38;5;241m=\u001b[39mnp\u001b[38;5;241m.\u001b[39mnan, copy\u001b[38;5;241m=\u001b[39m\u001b[38;5;28;01mFalse\u001b[39;00m)\n\u001b[0;32m  11051\u001b[0m \u001b[38;5;28;01mif\u001b[39;00m method \u001b[38;5;241m==\u001b[39m \u001b[38;5;124m\"\u001b[39m\u001b[38;5;124mpearson\u001b[39m\u001b[38;5;124m\"\u001b[39m:\n\u001b[0;32m  11052\u001b[0m     correl \u001b[38;5;241m=\u001b[39m libalgos\u001b[38;5;241m.\u001b[39mnancorr(mat, minp\u001b[38;5;241m=\u001b[39mmin_periods)\n",
      "File \u001b[1;32m~\\anaconda3\\Lib\\site-packages\\pandas\\core\\frame.py:1993\u001b[0m, in \u001b[0;36mDataFrame.to_numpy\u001b[1;34m(self, dtype, copy, na_value)\u001b[0m\n\u001b[0;32m   1991\u001b[0m \u001b[38;5;28;01mif\u001b[39;00m dtype \u001b[38;5;129;01mis\u001b[39;00m \u001b[38;5;129;01mnot\u001b[39;00m \u001b[38;5;28;01mNone\u001b[39;00m:\n\u001b[0;32m   1992\u001b[0m     dtype \u001b[38;5;241m=\u001b[39m np\u001b[38;5;241m.\u001b[39mdtype(dtype)\n\u001b[1;32m-> 1993\u001b[0m result \u001b[38;5;241m=\u001b[39m \u001b[38;5;28mself\u001b[39m\u001b[38;5;241m.\u001b[39m_mgr\u001b[38;5;241m.\u001b[39mas_array(dtype\u001b[38;5;241m=\u001b[39mdtype, copy\u001b[38;5;241m=\u001b[39mcopy, na_value\u001b[38;5;241m=\u001b[39mna_value)\n\u001b[0;32m   1994\u001b[0m \u001b[38;5;28;01mif\u001b[39;00m result\u001b[38;5;241m.\u001b[39mdtype \u001b[38;5;129;01mis\u001b[39;00m \u001b[38;5;129;01mnot\u001b[39;00m dtype:\n\u001b[0;32m   1995\u001b[0m     result \u001b[38;5;241m=\u001b[39m np\u001b[38;5;241m.\u001b[39masarray(result, dtype\u001b[38;5;241m=\u001b[39mdtype)\n",
      "File \u001b[1;32m~\\anaconda3\\Lib\\site-packages\\pandas\\core\\internals\\managers.py:1694\u001b[0m, in \u001b[0;36mBlockManager.as_array\u001b[1;34m(self, dtype, copy, na_value)\u001b[0m\n\u001b[0;32m   1692\u001b[0m         arr\u001b[38;5;241m.\u001b[39mflags\u001b[38;5;241m.\u001b[39mwriteable \u001b[38;5;241m=\u001b[39m \u001b[38;5;28;01mFalse\u001b[39;00m\n\u001b[0;32m   1693\u001b[0m \u001b[38;5;28;01melse\u001b[39;00m:\n\u001b[1;32m-> 1694\u001b[0m     arr \u001b[38;5;241m=\u001b[39m \u001b[38;5;28mself\u001b[39m\u001b[38;5;241m.\u001b[39m_interleave(dtype\u001b[38;5;241m=\u001b[39mdtype, na_value\u001b[38;5;241m=\u001b[39mna_value)\n\u001b[0;32m   1695\u001b[0m     \u001b[38;5;66;03m# The underlying data was copied within _interleave, so no need\u001b[39;00m\n\u001b[0;32m   1696\u001b[0m     \u001b[38;5;66;03m# to further copy if copy=True or setting na_value\u001b[39;00m\n\u001b[0;32m   1698\u001b[0m \u001b[38;5;28;01mif\u001b[39;00m na_value \u001b[38;5;129;01mis\u001b[39;00m lib\u001b[38;5;241m.\u001b[39mno_default:\n",
      "File \u001b[1;32m~\\anaconda3\\Lib\\site-packages\\pandas\\core\\internals\\managers.py:1753\u001b[0m, in \u001b[0;36mBlockManager._interleave\u001b[1;34m(self, dtype, na_value)\u001b[0m\n\u001b[0;32m   1751\u001b[0m     \u001b[38;5;28;01melse\u001b[39;00m:\n\u001b[0;32m   1752\u001b[0m         arr \u001b[38;5;241m=\u001b[39m blk\u001b[38;5;241m.\u001b[39mget_values(dtype)\n\u001b[1;32m-> 1753\u001b[0m     result[rl\u001b[38;5;241m.\u001b[39mindexer] \u001b[38;5;241m=\u001b[39m arr\n\u001b[0;32m   1754\u001b[0m     itemmask[rl\u001b[38;5;241m.\u001b[39mindexer] \u001b[38;5;241m=\u001b[39m \u001b[38;5;241m1\u001b[39m\n\u001b[0;32m   1756\u001b[0m \u001b[38;5;28;01mif\u001b[39;00m \u001b[38;5;129;01mnot\u001b[39;00m itemmask\u001b[38;5;241m.\u001b[39mall():\n",
      "\u001b[1;31mValueError\u001b[0m: could not convert string to float: 'KYM 0756'"
     ]
    }
   ],
   "source": [
    "#Exploratory data analysis\n",
    "import matplotlib.pyplot as plt\n",
    "import seaborn as sns\n",
    "\n",
    "# Summary statistics\n",
    "print(df_merged.describe(include='all'))\n",
    "\n",
    "# Visualizations\n",
    "sns.histplot(df_merged['Age'])\n",
    "plt.title('Age Distribution')\n",
    "plt.show()\n",
    "\n",
    "sns.boxplot(x='Gender', y='Viral_Load', data=df_merged)\n",
    "plt.title('Viral Load by Gender')\n",
    "plt.show()\n",
    "\n",
    "sns.heatmap(df_merged.corr(), annot=True, cmap='coolwarm')\n",
    "plt.title('Correlation Heatmap')\n",
    "plt.show()"
   ]
  },
  {
   "cell_type": "code",
   "execution_count": 1,
   "id": "51932f9a-9d41-4b57-8ff6-842180be55b5",
   "metadata": {},
   "outputs": [
    {
     "ename": "NameError",
     "evalue": "name 'df_merged' is not defined",
     "output_type": "error",
     "traceback": [
      "\u001b[1;31m---------------------------------------------------------------------------\u001b[0m",
      "\u001b[1;31mNameError\u001b[0m                                 Traceback (most recent call last)",
      "Cell \u001b[1;32mIn[1], line 6\u001b[0m\n\u001b[0;32m      3\u001b[0m \u001b[38;5;28;01mfrom\u001b[39;00m \u001b[38;5;21;01msklearn\u001b[39;00m\u001b[38;5;21;01m.\u001b[39;00m\u001b[38;5;21;01mmetrics\u001b[39;00m \u001b[38;5;28;01mimport\u001b[39;00m mean_squared_error\n\u001b[0;32m      5\u001b[0m \u001b[38;5;66;03m# Prepare data\u001b[39;00m\n\u001b[1;32m----> 6\u001b[0m X \u001b[38;5;241m=\u001b[39m df_merged[[\u001b[38;5;124m'\u001b[39m\u001b[38;5;124mAge\u001b[39m\u001b[38;5;124m'\u001b[39m, \u001b[38;5;124m'\u001b[39m\u001b[38;5;124mCD4_Count\u001b[39m\u001b[38;5;124m'\u001b[39m]]\n\u001b[0;32m      7\u001b[0m y \u001b[38;5;241m=\u001b[39m df_merged[\u001b[38;5;124m'\u001b[39m\u001b[38;5;124mViral_Load\u001b[39m\u001b[38;5;124m'\u001b[39m]\n\u001b[0;32m      9\u001b[0m X_train, X_test, y_train, y_test \u001b[38;5;241m=\u001b[39m train_test_split(X, y, test_size\u001b[38;5;241m=\u001b[39m\u001b[38;5;241m0.3\u001b[39m, random_state\u001b[38;5;241m=\u001b[39m\u001b[38;5;241m42\u001b[39m)\n",
      "\u001b[1;31mNameError\u001b[0m: name 'df_merged' is not defined"
     ]
    }
   ],
   "source": [
    "from sklearn.linear_model import LinearRegression\n",
    "from sklearn.model_selection import train_test_split\n",
    "from sklearn.metrics import mean_squared_error\n",
    "\n",
    "# Prepare data\n",
    "X = df_merged[['Age', 'CD4_Count']]\n",
    "y = df_merged['Viral_Load']\n",
    "\n",
    "X_train, X_test, y_train, y_test = train_test_split(X, y, test_size=0.3, random_state=42)\n",
    "model = LinearRegression()\n",
    "model.fit(X_train, y_train)\n",
    "\n",
    "y_pred = model.predict(X_test)\n",
    "print(\"Mean Squared Error:\", mean_squared_error(y_test, y_pred))"
   ]
  },
  {
   "cell_type": "code",
   "execution_count": 2,
   "id": "a52bb30b-d731-425d-8c86-52380e60c41a",
   "metadata": {},
   "outputs": [],
   "source": [
    "from sklearn.linear_model import LinearRegression\n",
    "from sklearn.model_selection import train_test_split\n",
    "from sklearn.metrics import mean_squared_error"
   ]
  },
  {
   "cell_type": "code",
   "execution_count": 3,
   "id": "020d9f18-036f-44a2-9f88-b9034d4e0e8a",
   "metadata": {},
   "outputs": [
    {
     "ename": "NameError",
     "evalue": "name 'df_merged' is not defined",
     "output_type": "error",
     "traceback": [
      "\u001b[1;31m---------------------------------------------------------------------------\u001b[0m",
      "\u001b[1;31mNameError\u001b[0m                                 Traceback (most recent call last)",
      "Cell \u001b[1;32mIn[3], line 1\u001b[0m\n\u001b[1;32m----> 1\u001b[0m X \u001b[38;5;241m=\u001b[39m df_merged[[\u001b[38;5;124m'\u001b[39m\u001b[38;5;124mAge\u001b[39m\u001b[38;5;124m'\u001b[39m, \u001b[38;5;124m'\u001b[39m\u001b[38;5;124mCD4_Count\u001b[39m\u001b[38;5;124m'\u001b[39m]]\n\u001b[0;32m      2\u001b[0m y \u001b[38;5;241m=\u001b[39m df_merged[\u001b[38;5;124m'\u001b[39m\u001b[38;5;124mViral_Load\u001b[39m\u001b[38;5;124m'\u001b[39m]\n",
      "\u001b[1;31mNameError\u001b[0m: name 'df_merged' is not defined"
     ]
    }
   ],
   "source": [
    "X = df_merged[['Age', 'CD4_Count']]\n",
    "y = df_merged['Viral_Load']"
   ]
  },
  {
   "cell_type": "code",
   "execution_count": null,
   "id": "ef669f3e-faa6-41d2-b746-a840342c230a",
   "metadata": {},
   "outputs": [],
   "source": []
  }
 ],
 "metadata": {
  "kernelspec": {
   "display_name": "Python 3 (ipykernel)",
   "language": "python",
   "name": "python3"
  },
  "language_info": {
   "codemirror_mode": {
    "name": "ipython",
    "version": 3
   },
   "file_extension": ".py",
   "mimetype": "text/x-python",
   "name": "python",
   "nbconvert_exporter": "python",
   "pygments_lexer": "ipython3",
   "version": "3.12.4"
  }
 },
 "nbformat": 4,
 "nbformat_minor": 5
}
